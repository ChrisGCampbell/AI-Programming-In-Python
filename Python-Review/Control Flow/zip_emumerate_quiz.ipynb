{
 "cells": [
  {
   "cell_type": "markdown",
   "metadata": {},
   "source": [
    "## Quiz: Zip Coordinates\n",
    "Use `zip` to write a for loop that creates a string specifying the label and coordinates of each point and appends it to the list `points`. \n",
    "\n",
    "Each string should be formatted as `label: x, y, z`. For example, the string for the first coordinate should be `F: 23, 677, 4`."
   ]
  },
  {
   "cell_type": "code",
   "execution_count": null,
   "metadata": {
    "edited": false,
    "gradable": true,
    "grader_id": "42xb3tljhbw",
    "udacity_user_query": ""
   },
   "outputs": [],
   "source": [
    "x_coord = [23, 53, 2, -12, 95, 103, 14, -5]\n",
    "y_coord = [677, 233, 405, 433, 905, 376, 432, 445]\n",
    "z_coord = [4, 16, -6, -42, 3, -6, 23, -1]\n",
    "labels = [\"F\", \"J\", \"A\", \"Q\", \"Y\", \"B\", \"W\", \"X\"]\n",
    "points = []\n",
    "# write your for loop here"
   ]
  },
  {
   "cell_type": "markdown",
   "metadata": {},
   "source": [
    "## Quiz: Zip Lists to a Dictionary\n",
    "Use `zip` to create a dictionary `cast` that uses `names` as keys and `heights` as values."
   ]
  },
  {
   "cell_type": "code",
   "execution_count": null,
   "metadata": {
    "edited": false,
    "gradable": true,
    "grader_id": "am8eew0rwu4",
    "udacity_user_query": ""
   },
   "outputs": [],
   "source": [
    "cast_names = [\"Barney\", \"Robin\", \"Ted\", \"Lily\", \"Marshall\"]\n",
    "cast_heights = [72, 68, 72, 66, 76]\n",
    "\n",
    "cast = None # replace with your code"
   ]
  },
  {
   "cell_type": "markdown",
   "metadata": {},
   "source": [
    "## Quiz: Unzip Tuples\n",
    "Unzip the `cast` tuple into two `names` and `heights` tuples."
   ]
  },
  {
   "cell_type": "code",
   "execution_count": null,
   "metadata": {
    "edited": false,
    "gradable": true,
    "grader_id": "p9a3v6i2j8p",
    "udacity_user_query": ""
   },
   "outputs": [],
   "source": [
    "cast = ((\"Barney\", 72), (\"Robin\", 68), (\"Ted\", 72), (\"Lily\", 66), (\"Marshall\", 76))\n",
    "# define names and heights here\n",
    "names, heights = (),() # replace with your code"
   ]
  },
  {
   "cell_type": "markdown",
   "metadata": {},
   "source": [
    "## Quiz: Transpose with Zip\n",
    "Use `zip` to transpose `data` from a 4-by-3 matrix to a 3-by-4 matrix. There's actually a cool trick for this! Feel free to look at the solutions if you can't figure it out."
   ]
  },
  {
   "cell_type": "code",
   "execution_count": null,
   "metadata": {
    "edited": false,
    "gradable": true,
    "grader_id": "pol2mooxbek",
    "udacity_user_query": ""
   },
   "outputs": [],
   "source": [
    "data = ((0, 1, 2), (3, 4, 5), (6, 7, 8), (9, 10, 11))\n",
    "data_transpose = None # replace with your code"
   ]
  },
  {
   "cell_type": "markdown",
   "metadata": {},
   "source": [
    "## Quiz: Enumerate\n",
    "Use `enumerate` to modify the `cast` list so that each element contains the name followed by the character's corresponding height. For example, the first element of `cast` should change from `\"Barney Stinson\"` to `\"Barney Stinson 72\"`.\n"
   ]
  },
  {
   "cell_type": "code",
   "execution_count": null,
   "metadata": {
    "edited": false,
    "gradable": true,
    "grader_id": "xtqkib783eo",
    "udacity_user_query": ""
   },
   "outputs": [],
   "source": [
    "cast = [\"Barney Stinson\", \"Robin Scherbatsky\", \"Ted Mosby\", \"Lily Aldrin\", \"Marshall Eriksen\"]\n",
    "heights = [72, 68, 72, 66, 76]\n",
    "# write your for loop here\n",
    "\n",
    "cast = None # replace with your code"
   ]
  }
 ],
 "metadata": {
  "grader_mode": "",
  "kernelspec": {
   "display_name": "Python 3",
   "language": "python",
   "name": "python3"
  },
  "language_info": {
   "codemirror_mode": {
    "name": "ipython",
    "version": 3
   },
   "file_extension": ".py",
   "mimetype": "text/x-python",
   "name": "python",
   "nbconvert_exporter": "python",
   "pygments_lexer": "ipython3",
   "version": "3.6.3"
  },
  "showGradeBtn": true
 },
 "nbformat": 4,
 "nbformat_minor": 2
}
